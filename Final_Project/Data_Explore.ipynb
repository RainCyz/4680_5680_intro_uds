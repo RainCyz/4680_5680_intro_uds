{
 "cells": [
  {
   "cell_type": "code",
   "execution_count": 1,
   "metadata": {
    "collapsed": true,
    "pycharm": {
     "name": "#%%\n"
    }
   },
   "outputs": [],
   "source": [
    "import numpy as np\n",
    "import pandas as pd\n",
    "import matplotlib.pyplot as plt\n",
    "import seaborn as sns\n",
    "import os"
   ]
  },
  {
   "cell_type": "code",
   "execution_count": 2,
   "outputs": [
    {
     "data": {
      "text/plain": "   Unnamed: 0  BOROUGH   NEIGHBORHOOD  \\\n0           4        1  ALPHABET CITY   \n1           5        1  ALPHABET CITY   \n2           6        1  ALPHABET CITY   \n3           7        1  ALPHABET CITY   \n4           8        1  ALPHABET CITY   \n\n                       BUILDING CLASS CATEGORY TAX CLASS AT PRESENT  BLOCK  \\\n0  07 RENTALS - WALKUP APARTMENTS                                2A    392   \n1  07 RENTALS - WALKUP APARTMENTS                                 2    399   \n2  07 RENTALS - WALKUP APARTMENTS                                 2    399   \n3  07 RENTALS - WALKUP APARTMENTS                                2B    402   \n4  07 RENTALS - WALKUP APARTMENTS                                2A    404   \n\n   LOT EASE-MENT BUILDING CLASS AT PRESENT                 ADDRESS  ...  \\\n0    6                                  C2            153 AVENUE B  ...   \n1   26                                  C7   234 EAST 4TH   STREET  ...   \n2   39                                  C7   197 EAST 3RD   STREET  ...   \n3   21                                  C4     154 EAST 7TH STREET  ...   \n4   55                                  C2  301 EAST 10TH   STREET  ...   \n\n  RESIDENTIAL UNITS  COMMERCIAL UNITS  TOTAL UNITS  LAND SQUARE FEET  \\\n0                 5                 0            5              1633   \n1                28                 3           31              4616   \n2                16                 1           17              2212   \n3                10                 0           10              2272   \n4                 6                 0            6              2369   \n\n   GROSS SQUARE FEET YEAR BUILT TAX CLASS AT TIME OF SALE  \\\n0               6440       1900                         2   \n1              18690       1900                         2   \n2               7803       1900                         2   \n3               6794       1913                         2   \n4               4615       1900                         2   \n\n   BUILDING CLASS AT TIME OF SALE  SALE PRICE            SALE DATE  \n0                              C2     6625000  2017-07-19 00:00:00  \n1                              C7         -    2016-12-14 00:00:00  \n2                              C7         -    2016-12-09 00:00:00  \n3                              C4     3936272  2016-09-23 00:00:00  \n4                              C2     8000000  2016-11-17 00:00:00  \n\n[5 rows x 22 columns]",
      "text/html": "<div>\n<style scoped>\n    .dataframe tbody tr th:only-of-type {\n        vertical-align: middle;\n    }\n\n    .dataframe tbody tr th {\n        vertical-align: top;\n    }\n\n    .dataframe thead th {\n        text-align: right;\n    }\n</style>\n<table border=\"1\" class=\"dataframe\">\n  <thead>\n    <tr style=\"text-align: right;\">\n      <th></th>\n      <th>Unnamed: 0</th>\n      <th>BOROUGH</th>\n      <th>NEIGHBORHOOD</th>\n      <th>BUILDING CLASS CATEGORY</th>\n      <th>TAX CLASS AT PRESENT</th>\n      <th>BLOCK</th>\n      <th>LOT</th>\n      <th>EASE-MENT</th>\n      <th>BUILDING CLASS AT PRESENT</th>\n      <th>ADDRESS</th>\n      <th>...</th>\n      <th>RESIDENTIAL UNITS</th>\n      <th>COMMERCIAL UNITS</th>\n      <th>TOTAL UNITS</th>\n      <th>LAND SQUARE FEET</th>\n      <th>GROSS SQUARE FEET</th>\n      <th>YEAR BUILT</th>\n      <th>TAX CLASS AT TIME OF SALE</th>\n      <th>BUILDING CLASS AT TIME OF SALE</th>\n      <th>SALE PRICE</th>\n      <th>SALE DATE</th>\n    </tr>\n  </thead>\n  <tbody>\n    <tr>\n      <th>0</th>\n      <td>4</td>\n      <td>1</td>\n      <td>ALPHABET CITY</td>\n      <td>07 RENTALS - WALKUP APARTMENTS</td>\n      <td>2A</td>\n      <td>392</td>\n      <td>6</td>\n      <td></td>\n      <td>C2</td>\n      <td>153 AVENUE B</td>\n      <td>...</td>\n      <td>5</td>\n      <td>0</td>\n      <td>5</td>\n      <td>1633</td>\n      <td>6440</td>\n      <td>1900</td>\n      <td>2</td>\n      <td>C2</td>\n      <td>6625000</td>\n      <td>2017-07-19 00:00:00</td>\n    </tr>\n    <tr>\n      <th>1</th>\n      <td>5</td>\n      <td>1</td>\n      <td>ALPHABET CITY</td>\n      <td>07 RENTALS - WALKUP APARTMENTS</td>\n      <td>2</td>\n      <td>399</td>\n      <td>26</td>\n      <td></td>\n      <td>C7</td>\n      <td>234 EAST 4TH   STREET</td>\n      <td>...</td>\n      <td>28</td>\n      <td>3</td>\n      <td>31</td>\n      <td>4616</td>\n      <td>18690</td>\n      <td>1900</td>\n      <td>2</td>\n      <td>C7</td>\n      <td>-</td>\n      <td>2016-12-14 00:00:00</td>\n    </tr>\n    <tr>\n      <th>2</th>\n      <td>6</td>\n      <td>1</td>\n      <td>ALPHABET CITY</td>\n      <td>07 RENTALS - WALKUP APARTMENTS</td>\n      <td>2</td>\n      <td>399</td>\n      <td>39</td>\n      <td></td>\n      <td>C7</td>\n      <td>197 EAST 3RD   STREET</td>\n      <td>...</td>\n      <td>16</td>\n      <td>1</td>\n      <td>17</td>\n      <td>2212</td>\n      <td>7803</td>\n      <td>1900</td>\n      <td>2</td>\n      <td>C7</td>\n      <td>-</td>\n      <td>2016-12-09 00:00:00</td>\n    </tr>\n    <tr>\n      <th>3</th>\n      <td>7</td>\n      <td>1</td>\n      <td>ALPHABET CITY</td>\n      <td>07 RENTALS - WALKUP APARTMENTS</td>\n      <td>2B</td>\n      <td>402</td>\n      <td>21</td>\n      <td></td>\n      <td>C4</td>\n      <td>154 EAST 7TH STREET</td>\n      <td>...</td>\n      <td>10</td>\n      <td>0</td>\n      <td>10</td>\n      <td>2272</td>\n      <td>6794</td>\n      <td>1913</td>\n      <td>2</td>\n      <td>C4</td>\n      <td>3936272</td>\n      <td>2016-09-23 00:00:00</td>\n    </tr>\n    <tr>\n      <th>4</th>\n      <td>8</td>\n      <td>1</td>\n      <td>ALPHABET CITY</td>\n      <td>07 RENTALS - WALKUP APARTMENTS</td>\n      <td>2A</td>\n      <td>404</td>\n      <td>55</td>\n      <td></td>\n      <td>C2</td>\n      <td>301 EAST 10TH   STREET</td>\n      <td>...</td>\n      <td>6</td>\n      <td>0</td>\n      <td>6</td>\n      <td>2369</td>\n      <td>4615</td>\n      <td>1900</td>\n      <td>2</td>\n      <td>C2</td>\n      <td>8000000</td>\n      <td>2016-11-17 00:00:00</td>\n    </tr>\n  </tbody>\n</table>\n<p>5 rows × 22 columns</p>\n</div>"
     },
     "execution_count": 2,
     "metadata": {},
     "output_type": "execute_result"
    }
   ],
   "source": [
    "# exploratory data analysis for housing data\n",
    "df = pd.read_csv('nyc_housing_price/nyc-rolling-sales.csv')\n",
    "df.head()"
   ],
   "metadata": {
    "collapsed": false,
    "pycharm": {
     "name": "#%%\n"
    }
   }
  },
  {
   "cell_type": "code",
   "execution_count": 4,
   "outputs": [
    {
     "data": {
      "text/plain": "(84548, 22)"
     },
     "execution_count": 4,
     "metadata": {},
     "output_type": "execute_result"
    }
   ],
   "source": [
    "df.shape"
   ],
   "metadata": {
    "collapsed": false,
    "pycharm": {
     "name": "#%%\n"
    }
   }
  },
  {
   "cell_type": "code",
   "execution_count": 5,
   "outputs": [
    {
     "data": {
      "text/plain": "      Geo_FIPS                                   Geo_QName Geo_FILEID  \\\n0  36005000100      Census Tract 1, Bronx County, New York      ACSSF   \n1  36005000200      Census Tract 2, Bronx County, New York      ACSSF   \n2  36005000400      Census Tract 4, Bronx County, New York      ACSSF   \n3  36005001600     Census Tract 16, Bronx County, New York      ACSSF   \n4  36005001901  Census Tract 19.01, Bronx County, New York      ACSSF   \n\n  Geo_STUSAB  Geo_SUMLEV  Geo_GEOCOMP  Geo_LOGRECNO  Geo_US  Geo_REGION  \\\n0         ny         140            0          3608     NaN         NaN   \n1         ny         140            0          3609     NaN         NaN   \n2         ny         140            0          3610     NaN         NaN   \n3         ny         140            0          3611     NaN         NaN   \n4         ny         140            0          3612     NaN         NaN   \n\n   Geo_DIVISION  ...  SE_A10065_001  SE_A10065_002  SE_A10066_001  \\\n0           NaN  ...              0              0              0   \n1           NaN  ...            833            450           1340   \n2           NaN  ...           1056            727           2110   \n3           NaN  ...           1032            738           2153   \n4           NaN  ...            398            208            784   \n\n   SE_A10066_002  SE_A10066_003  SE_A10066_004  SE_A10066_005  SE_A10066_006  \\\n0              0              0              0              0              0   \n1            228            384            354            167             89   \n2            402            602            509            426            121   \n3            456            630            338            329            281   \n4            259            282             74            105             39   \n\n   SE_A10066_007  SE_A10066_008  \n0              0              0  \n1              0            118  \n2             50              0  \n3             79             40  \n4             12             13  \n\n[5 rows x 756 columns]",
      "text/html": "<div>\n<style scoped>\n    .dataframe tbody tr th:only-of-type {\n        vertical-align: middle;\n    }\n\n    .dataframe tbody tr th {\n        vertical-align: top;\n    }\n\n    .dataframe thead th {\n        text-align: right;\n    }\n</style>\n<table border=\"1\" class=\"dataframe\">\n  <thead>\n    <tr style=\"text-align: right;\">\n      <th></th>\n      <th>Geo_FIPS</th>\n      <th>Geo_QName</th>\n      <th>Geo_FILEID</th>\n      <th>Geo_STUSAB</th>\n      <th>Geo_SUMLEV</th>\n      <th>Geo_GEOCOMP</th>\n      <th>Geo_LOGRECNO</th>\n      <th>Geo_US</th>\n      <th>Geo_REGION</th>\n      <th>Geo_DIVISION</th>\n      <th>...</th>\n      <th>SE_A10065_001</th>\n      <th>SE_A10065_002</th>\n      <th>SE_A10066_001</th>\n      <th>SE_A10066_002</th>\n      <th>SE_A10066_003</th>\n      <th>SE_A10066_004</th>\n      <th>SE_A10066_005</th>\n      <th>SE_A10066_006</th>\n      <th>SE_A10066_007</th>\n      <th>SE_A10066_008</th>\n    </tr>\n  </thead>\n  <tbody>\n    <tr>\n      <th>0</th>\n      <td>36005000100</td>\n      <td>Census Tract 1, Bronx County, New York</td>\n      <td>ACSSF</td>\n      <td>ny</td>\n      <td>140</td>\n      <td>0</td>\n      <td>3608</td>\n      <td>NaN</td>\n      <td>NaN</td>\n      <td>NaN</td>\n      <td>...</td>\n      <td>0</td>\n      <td>0</td>\n      <td>0</td>\n      <td>0</td>\n      <td>0</td>\n      <td>0</td>\n      <td>0</td>\n      <td>0</td>\n      <td>0</td>\n      <td>0</td>\n    </tr>\n    <tr>\n      <th>1</th>\n      <td>36005000200</td>\n      <td>Census Tract 2, Bronx County, New York</td>\n      <td>ACSSF</td>\n      <td>ny</td>\n      <td>140</td>\n      <td>0</td>\n      <td>3609</td>\n      <td>NaN</td>\n      <td>NaN</td>\n      <td>NaN</td>\n      <td>...</td>\n      <td>833</td>\n      <td>450</td>\n      <td>1340</td>\n      <td>228</td>\n      <td>384</td>\n      <td>354</td>\n      <td>167</td>\n      <td>89</td>\n      <td>0</td>\n      <td>118</td>\n    </tr>\n    <tr>\n      <th>2</th>\n      <td>36005000400</td>\n      <td>Census Tract 4, Bronx County, New York</td>\n      <td>ACSSF</td>\n      <td>ny</td>\n      <td>140</td>\n      <td>0</td>\n      <td>3610</td>\n      <td>NaN</td>\n      <td>NaN</td>\n      <td>NaN</td>\n      <td>...</td>\n      <td>1056</td>\n      <td>727</td>\n      <td>2110</td>\n      <td>402</td>\n      <td>602</td>\n      <td>509</td>\n      <td>426</td>\n      <td>121</td>\n      <td>50</td>\n      <td>0</td>\n    </tr>\n    <tr>\n      <th>3</th>\n      <td>36005001600</td>\n      <td>Census Tract 16, Bronx County, New York</td>\n      <td>ACSSF</td>\n      <td>ny</td>\n      <td>140</td>\n      <td>0</td>\n      <td>3611</td>\n      <td>NaN</td>\n      <td>NaN</td>\n      <td>NaN</td>\n      <td>...</td>\n      <td>1032</td>\n      <td>738</td>\n      <td>2153</td>\n      <td>456</td>\n      <td>630</td>\n      <td>338</td>\n      <td>329</td>\n      <td>281</td>\n      <td>79</td>\n      <td>40</td>\n    </tr>\n    <tr>\n      <th>4</th>\n      <td>36005001901</td>\n      <td>Census Tract 19.01, Bronx County, New York</td>\n      <td>ACSSF</td>\n      <td>ny</td>\n      <td>140</td>\n      <td>0</td>\n      <td>3612</td>\n      <td>NaN</td>\n      <td>NaN</td>\n      <td>NaN</td>\n      <td>...</td>\n      <td>398</td>\n      <td>208</td>\n      <td>784</td>\n      <td>259</td>\n      <td>282</td>\n      <td>74</td>\n      <td>105</td>\n      <td>39</td>\n      <td>12</td>\n      <td>13</td>\n    </tr>\n  </tbody>\n</table>\n<p>5 rows × 756 columns</p>\n</div>"
     },
     "execution_count": 5,
     "metadata": {},
     "output_type": "execute_result"
    }
   ],
   "source": [
    "# acs data\n",
    "acs = pd.read_csv('ACS.csv')\n",
    "acs.head()\n",
    "# at least we got Geo_FIPS for more detailed analysis. Consider filter the required information and concate them into one dataframe for regression."
   ],
   "metadata": {
    "collapsed": false,
    "pycharm": {
     "name": "#%%\n"
    }
   }
  },
  {
   "cell_type": "code",
   "execution_count": 7,
   "outputs": [
    {
     "data": {
      "text/plain": "       Geo_FIPS                                Geo_QName Geo_FILEID  \\\n19  36005003700  Census Tract 37, Bronx County, New York      ACSSF   \n\n   Geo_STUSAB  Geo_SUMLEV  Geo_GEOCOMP  Geo_LOGRECNO  Geo_US  Geo_REGION  \\\n19         ny         140            0          3627     NaN         NaN   \n\n    Geo_DIVISION  ...  SE_A10065_001  SE_A10065_002  SE_A10066_001  \\\n19           NaN  ...             39             35            145   \n\n    SE_A10066_002  SE_A10066_003  SE_A10066_004  SE_A10066_005  SE_A10066_006  \\\n19             81             50             14              0              0   \n\n    SE_A10066_007  SE_A10066_008  \n19              0              0  \n\n[1 rows x 756 columns]",
      "text/html": "<div>\n<style scoped>\n    .dataframe tbody tr th:only-of-type {\n        vertical-align: middle;\n    }\n\n    .dataframe tbody tr th {\n        vertical-align: top;\n    }\n\n    .dataframe thead th {\n        text-align: right;\n    }\n</style>\n<table border=\"1\" class=\"dataframe\">\n  <thead>\n    <tr style=\"text-align: right;\">\n      <th></th>\n      <th>Geo_FIPS</th>\n      <th>Geo_QName</th>\n      <th>Geo_FILEID</th>\n      <th>Geo_STUSAB</th>\n      <th>Geo_SUMLEV</th>\n      <th>Geo_GEOCOMP</th>\n      <th>Geo_LOGRECNO</th>\n      <th>Geo_US</th>\n      <th>Geo_REGION</th>\n      <th>Geo_DIVISION</th>\n      <th>...</th>\n      <th>SE_A10065_001</th>\n      <th>SE_A10065_002</th>\n      <th>SE_A10066_001</th>\n      <th>SE_A10066_002</th>\n      <th>SE_A10066_003</th>\n      <th>SE_A10066_004</th>\n      <th>SE_A10066_005</th>\n      <th>SE_A10066_006</th>\n      <th>SE_A10066_007</th>\n      <th>SE_A10066_008</th>\n    </tr>\n  </thead>\n  <tbody>\n    <tr>\n      <th>19</th>\n      <td>36005003700</td>\n      <td>Census Tract 37, Bronx County, New York</td>\n      <td>ACSSF</td>\n      <td>ny</td>\n      <td>140</td>\n      <td>0</td>\n      <td>3627</td>\n      <td>NaN</td>\n      <td>NaN</td>\n      <td>NaN</td>\n      <td>...</td>\n      <td>39</td>\n      <td>35</td>\n      <td>145</td>\n      <td>81</td>\n      <td>50</td>\n      <td>14</td>\n      <td>0</td>\n      <td>0</td>\n      <td>0</td>\n      <td>0</td>\n    </tr>\n  </tbody>\n</table>\n<p>1 rows × 756 columns</p>\n</div>"
     },
     "execution_count": 7,
     "metadata": {},
     "output_type": "execute_result"
    }
   ],
   "source": [
    "acs[acs['Geo_FIPS'] == 36005003700]"
   ],
   "metadata": {
    "collapsed": false,
    "pycharm": {
     "name": "#%%\n"
    }
   }
  },
  {
   "cell_type": "code",
   "execution_count": null,
   "outputs": [],
   "source": [
    "# tree density\n",
    "# notice that this is at block group level -> FIPS = FIPS[:-1]"
   ],
   "metadata": {
    "collapsed": false,
    "pycharm": {
     "name": "#%%\n"
    }
   }
  }
 ],
 "metadata": {
  "kernelspec": {
   "display_name": "Python 3",
   "language": "python",
   "name": "python3"
  },
  "language_info": {
   "codemirror_mode": {
    "name": "ipython",
    "version": 2
   },
   "file_extension": ".py",
   "mimetype": "text/x-python",
   "name": "python",
   "nbconvert_exporter": "python",
   "pygments_lexer": "ipython2",
   "version": "2.7.6"
  }
 },
 "nbformat": 4,
 "nbformat_minor": 0
}